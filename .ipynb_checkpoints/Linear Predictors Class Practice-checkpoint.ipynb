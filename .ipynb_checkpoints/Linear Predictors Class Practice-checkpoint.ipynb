{
 "cells": [
  {
   "cell_type": "code",
   "execution_count": 2,
   "metadata": {},
   "outputs": [],
   "source": [
    "#import our data science commands\n",
    "import numpy as np\n",
    "import pandas as pd\n",
    "import matplotlib.pyplot as plt"
   ]
  },
  {
   "cell_type": "code",
   "execution_count": 3,
   "metadata": {},
   "outputs": [],
   "source": [
    "#creates our data\n",
    "data_pos = np.random.randn(50, 2) #50 2 dimensional data-sets, where we move the mean\n",
    "data_pos[:,0] = data_pos[:,0] -2\n",
    "data_pos[:,1] = data_pos[:,1] +3\n",
    "data_neg = np.random.randn(30, 2) #30 2 dimensional data-set, where we move the mean\n",
    "data_neg[:,0] = data_neg[:,0] +2\n",
    "data_neg[:,1] = data_neg[:,1] -3"
   ]
  },
  {
   "cell_type": "code",
   "execution_count": 4,
   "metadata": {},
   "outputs": [
    {
     "data": {
      "image/png": "[encoded data removed]",
      "text/plain": [
       "<Figure size 432x288 with 1 Axes>"
      ]
     },
     "metadata": {
      "needs_background": "light"
     },
     "output_type": "display_data"
    }
   ],
   "source": [
    "#Let's look at our data\n",
    "plt.scatter(data_pos[:,0],data_pos[:,1],color = 'blue')\n",
    "plt.scatter(data_neg[:,0],data_neg[:,1],color = 'red')\n",
    "plt.show()"
   ]
  },
  {
   "cell_type": "code",
   "execution_count": 5,
   "metadata": {},
   "outputs": [],
   "source": [
    "neg_data_neg = -data_neg #for linear programming, our equation is to multipy y*x. For our negitive numbers, y = -1"
   ]
  },
  {
   "cell_type": "code",
   "execution_count": 6,
   "metadata": {},
   "outputs": [],
   "source": [
    "A = np.vstack([data_pos,neg_data_neg]) #combine them all into an A matrix"
   ]
  },
  {
   "cell_type": "code",
   "execution_count": 7,
   "metadata": {},
   "outputs": [],
   "source": [
    "v = np.ones(80) #Create our vs"
   ]
  },
  {
   "cell_type": "code",
   "execution_count": 8,
   "metadata": {},
   "outputs": [],
   "source": [
    "u = np.zeros(2)#We ingore the minimization"
   ]
  },
  {
   "cell_type": "code",
   "execution_count": 9,
   "metadata": {},
   "outputs": [
    {
     "data": {
      "text/plain": [
       "     con: array([], dtype=float64)\n",
       "     fun: 0.0\n",
       " message: 'Optimization terminated successfully.'\n",
       "     nit: 86\n",
       "   slack: array([9.27757674e-01, 9.82328524e-01, 3.33600778e+00, 1.28785446e+00,\n",
       "       2.97724042e-01, 2.64774353e+00, 7.20016367e-01, 3.06332392e+00,\n",
       "       1.43940919e+00, 3.21904609e+00, 1.80370957e+00, 2.15806441e+00,\n",
       "       1.69493059e+00, 1.90393182e+00, 2.40973492e+00, 1.93884372e+00,\n",
       "       8.71712208e-01, 3.77641016e+00, 1.96856702e+00, 1.33792055e+00,\n",
       "       1.99737977e+00, 3.47899754e+00, 1.13154588e+00, 2.28306616e+00,\n",
       "       4.99725841e-01, 1.91085979e+00, 2.19786078e+00, 2.51606288e+00,\n",
       "       1.10998715e+00, 2.91104471e+00, 1.94810302e+00, 1.32785126e+00,\n",
       "       1.38159866e+00, 4.45526126e-01, 1.33226763e-15, 2.21239351e+00,\n",
       "       6.11281005e-01, 4.17172314e+00, 2.47023603e+00, 1.75626926e+00,\n",
       "       1.56660676e+00, 1.57001810e+00, 2.50067216e+00, 2.42847484e+00,\n",
       "       1.76001098e+00, 2.44287248e+00, 3.61545001e+00, 3.74064557e+00,\n",
       "       1.17636059e+00, 2.59484287e+00, 1.22935288e+00, 3.08116537e+00,\n",
       "       2.62444259e+00, 3.08526743e+00, 1.99559818e+00, 1.60169983e+00,\n",
       "       2.76185779e+00, 1.09131975e+00, 1.99736437e+00, 4.56988965e-01,\n",
       "       3.81181190e+00, 3.79417264e-01, 1.35051908e+00, 3.81785765e+00,\n",
       "       2.62514637e+00, 2.87701938e+00, 1.63735555e+00, 2.03095251e+00,\n",
       "       1.77561134e+00, 1.55716877e+00, 2.04764848e+00, 2.71422918e+00,\n",
       "       2.17503842e+00, 2.32136501e+00, 3.63193781e+00, 7.52778629e-01,\n",
       "       2.98287125e+00, 1.74706552e+00, 3.24885822e+00, 8.92928743e-01])\n",
       "  status: 0\n",
       " success: True\n",
       "       x: array([0.       , 0.9906311])"
      ]
     },
     "execution_count": 9,
     "metadata": {},
     "output_type": "execute_result"
    }
   ],
   "source": [
    "from scipy.optimize import linprog #And this is how we do the linear programming\n",
    "linprog(-u,A_ub = -A, b_ub = -v)"
   ]
  },
  {
   "cell_type": "code",
   "execution_count": 10,
   "metadata": {},
   "outputs": [],
   "source": [
    "points = np.linspace(-5,5,30) #Create a line to show our line"
   ]
  },
  {
   "cell_type": "code",
   "execution_count": 11,
   "metadata": {},
   "outputs": [],
   "source": [
    "y_points = list(map(lambda x: (-0.16249611/0.90278852)*x,points)) #This was from an example for 5 points each\n",
    "y_new_points = list(map(lambda x: (-0.15387771/1.20406409)*x,points)) #This is from our 80 points\n",
    "#Both of these line solve our problem for our distirbution. This shows that we have a couple hypothises, both of which\n",
    "#minimize the loss function, and correctly create the halfspace for our distribution "
   ]
  },
  {
   "cell_type": "code",
   "execution_count": 12,
   "metadata": {},
   "outputs": [
    {
     "data": {
      "image/png": "[encoded data removed]",
      "text/plain": [
       "<Figure size 432x288 with 1 Axes>"
      ]
     },
     "metadata": {
      "needs_background": "light"
     },
     "output_type": "display_data"
    }
   ],
   "source": [
    "plt.scatter(data_pos[:,0],data_pos[:,1],color = 'blue')\n",
    "plt.scatter(data_neg[:,0],data_neg[:,1],color = 'red')\n",
    "plt.plot(points,y_points,color = 'black')\n",
    "plt.plot(points,y_new_points,color = 'purple')\n",
    "plt.show()"
   ]
  },
  {
   "cell_type": "markdown",
   "metadata": {},
   "source": [
    "# This next section is going to be Regression. We will start with a few data points, then add the intercept, and then add another variable"
   ]
  },
  {
   "cell_type": "code",
   "execution_count": 21,
   "metadata": {},
   "outputs": [
    {
     "data": {
      "text/plain": [
       "array([0.  , 0.75, 1.5 , 2.25, 3.  ])"
      ]
     },
     "execution_count": 21,
     "metadata": {},
     "output_type": "execute_result"
    }
   ],
   "source": [
    "#This is completely clean data, with no intercept and a slope of 3\n",
    "x_points = np.linspace(0,1,5)\n",
    "y_points = 3*x_points"
   ]
  },
  {
   "cell_type": "code",
   "execution_count": 70,
   "metadata": {},
   "outputs": [
    {
     "data": {
      "text/plain": [
       "array([[-0.18857761,  1.04943504,  0.50649223,  3.08339648,  3.74627037]])"
      ]
     },
     "execution_count": 70,
     "metadata": {},
     "output_type": "execute_result"
    }
   ],
   "source": [
    "y_points_n = y_points + (np.random.randn(1,5)/1.05)#Divide by 1.05 to reduce our normal\n",
    "y_points_n #And this makes our problem a bit more interesting because it gives us a little noise"
   ]
  },
  {
   "cell_type": "code",
   "execution_count": 71,
   "metadata": {},
   "outputs": [
    {
     "data": {
      "image/png": "[encoded data removed]",
      "text/plain": [
       "<Figure size 432x288 with 1 Axes>"
      ]
     },
     "metadata": {
      "needs_background": "light"
     },
     "output_type": "display_data"
    }
   ],
   "source": [
    "plt.scatter(x_points,y_points,color = 'blue')\n",
    "plt.scatter(x_points,y_points_n,color = 'red')\n",
    "plt.show()"
   ]
  },
  {
   "cell_type": "code",
   "execution_count": 72,
   "metadata": {},
   "outputs": [
    {
     "data": {
      "text/plain": [
       "array([[3.]])"
      ]
     },
     "execution_count": 72,
     "metadata": {},
     "output_type": "execute_result"
    }
   ],
   "source": [
    "#We have two data-sets, which means that, if we use the clean data-set, we can check our method to make sure it works\n",
    "#The clean data will give us back our slope\n",
    "X = x_points.reshape((1,5))#convert our x into a 1x5, so that we can create it's transpose\n",
    "A = X.dot(X.T)#Multiple our x (saved in A), with it's transpose to get the actual A matrix\n",
    "\n",
    "#Next, we create the b matrix by X.dot(y)\n",
    "b = X.dot(y_points.reshape(5,1)) #Our y vector must also be reshaped to fit the multiplication\n",
    "\n",
    "#Finally, we perform our inverse on A dot b to get W \n",
    "w_clean = np.linalg.inv(A).dot(b)\n",
    "w_clean #When we print this with our clean data, we get back our slope. So our basic method works"
   ]
  },
  {
   "cell_type": "code",
   "execution_count": 79,
   "metadata": {},
   "outputs": [
    {
     "data": {
      "text/plain": [
       "array([[3.50635872]])"
      ]
     },
     "execution_count": 79,
     "metadata": {},
     "output_type": "execute_result"
    }
   ],
   "source": [
    "#Next, for the 1-D case, we need to create our A matrix and matrix based solely off our points\n",
    "X = x_points.reshape((1,5))#convert our x into a 1x5, so that we can create it's transpose\n",
    "A = X.dot(X.T)#Multiple our x (saved in A), with it's transpose to get the actual A matrix\n",
    "\n",
    "#Next, we create the b matrix by X.dot(y)\n",
    "b = X.dot(y_points_n.reshape(5,1)) #Our y vector must also be reshaped to fit the multiplication\n",
    "\n",
    "#Finally, we perform our inverse on A dot b to get W \n",
    "w = np.linalg.inv(A).dot(b) \n",
    "w"
   ]
  },
  {
   "cell_type": "code",
   "execution_count": 1,
   "metadata": {},
   "outputs": [
    {
     "ename": "NameError",
     "evalue": "name 'np' is not defined",
     "output_type": "error",
     "traceback": [
      "\u001b[1;31m---------------------------------------------------------------------------\u001b[0m",
      "\u001b[1;31mNameError\u001b[0m                                 Traceback (most recent call last)",
      "\u001b[1;32m<ipython-input-1-bd55e3c9a950>\u001b[0m in \u001b[0;36m<module>\u001b[1;34m\u001b[0m\n\u001b[0;32m      1\u001b[0m \u001b[1;31m#This is going to plot our line of best fit\u001b[0m\u001b[1;33m\u001b[0m\u001b[1;33m\u001b[0m\u001b[1;33m\u001b[0m\u001b[0m\n\u001b[1;32m----> 2\u001b[1;33m \u001b[0mx_res_points\u001b[0m \u001b[1;33m=\u001b[0m \u001b[0mnp\u001b[0m\u001b[1;33m.\u001b[0m\u001b[0mlinspace\u001b[0m\u001b[1;33m(\u001b[0m\u001b[1;36m0\u001b[0m\u001b[1;33m,\u001b[0m\u001b[1;36m1\u001b[0m\u001b[1;33m,\u001b[0m\u001b[1;36m30\u001b[0m\u001b[1;33m)\u001b[0m\u001b[1;31m#We get a bit more resolution in our line this way. This will make our curves look better later, but we do it now to be in the habit\u001b[0m\u001b[1;33m\u001b[0m\u001b[1;33m\u001b[0m\u001b[0m\n\u001b[0m\u001b[0;32m      3\u001b[0m \u001b[0my_test\u001b[0m \u001b[1;33m=\u001b[0m\u001b[0mw\u001b[0m\u001b[1;33m[\u001b[0m\u001b[1;36m0\u001b[0m\u001b[1;33m]\u001b[0m\u001b[1;33m*\u001b[0m\u001b[0mx_res_points\u001b[0m\u001b[1;33m+\u001b[0m\u001b[1;36m10\u001b[0m\u001b[1;33m\u001b[0m\u001b[1;33m\u001b[0m\u001b[0m\n\u001b[0;32m      4\u001b[0m \u001b[1;31m#plt.scatter(x_points,y_points,color = 'blue')#For clean point data-set\u001b[0m\u001b[1;33m\u001b[0m\u001b[1;33m\u001b[0m\u001b[1;33m\u001b[0m\u001b[0m\n\u001b[0;32m      5\u001b[0m \u001b[0mplt\u001b[0m\u001b[1;33m.\u001b[0m\u001b[0mscatter\u001b[0m\u001b[1;33m(\u001b[0m\u001b[0mx_points\u001b[0m\u001b[1;33m,\u001b[0m\u001b[0my_points_n\u001b[0m\u001b[1;33m,\u001b[0m\u001b[0mcolor\u001b[0m \u001b[1;33m=\u001b[0m \u001b[1;34m'red'\u001b[0m\u001b[1;33m)\u001b[0m\u001b[1;31m#For Points\u001b[0m\u001b[1;33m\u001b[0m\u001b[1;33m\u001b[0m\u001b[0m\n",
      "\u001b[1;31mNameError\u001b[0m: name 'np' is not defined"
     ]
    }
   ],
   "source": [
    "#This is going to plot our line of best fit\n",
    "x_res_points = np.linspace(0,1,30)#We get a bit more resolution in our line this way. This will make our curves look better later, but we do it now to be in the habit\n",
    "y_test =w[0]*x_res_points+10\n",
    "#plt.scatter(x_points,y_points,color = 'blue')#For clean point data-set\n",
    "plt.scatter(x_points,y_points_n,color = 'red')#For Points\n",
    "plt.plot(x_res_points,y_test, color = 'purple')#line graph\n",
    "plt.show() "
   ]
  },
  {
   "cell_type": "code",
   "execution_count": 77,
   "metadata": {},
   "outputs": [
    {
     "data": {
      "text/plain": [
       "array([[3.],\n",
       "       [0.]])"
      ]
     },
     "execution_count": 77,
     "metadata": {},
     "output_type": "execute_result"
    }
   ],
   "source": [
    "#Next, we are going to add an intercept. We will (again) first check to make sure we are doing our form to make sure we are doing everything right\n",
    "X    = x_points.reshape((1,5))#convert our x into a 1x5, so that we can create it's transpose\n",
    "ones = np.ones(5).reshape((1,5))\n",
    "X    = np.vstack((X,ones))#Following the form of slide 35\n",
    "A = X.dot(X.T)#Multiple our x (saved in A), with it's transpose to get the actual A matrix\n",
    "\n",
    "#Next, we create the b matrix by X.dot(y)\n",
    "b = X.dot(y_points.reshape(5,1)) #Our y vector must also be reshaped to fit the multiplication\n",
    "\n",
    "#Finally, we perform our inverse on A dot b to get W \n",
    "w_clean = np.linalg.inv(A).dot(b)\n",
    "w_clean #When we print this with our clean data, we get back our slope. So our basic method works"
   ]
  },
  {
   "cell_type": "code",
   "execution_count": 80,
   "metadata": {},
   "outputs": [],
   "source": [
    "#Next, we are going to add an intercept. We will (again) first check to make sure we are doing our form to make sure we are doing everything right\n",
    "X    = x_points.reshape((1,5))#convert our x into a 1x5, so that we can create it's transpose\n",
    "ones = np.ones(5).reshape((1,5))\n",
    "X    = np.vstack((X,ones))#Following the form of slide 35\n",
    "A = X.dot(X.T)#Multiple our x (saved in A), with it's transpose to get the actual A matrix\n",
    "\n",
    "#Next, we create the b matrix by X.dot(y)\n",
    "b = X.dot(y_points_n.reshape(5,1)) #Our y vector must also be reshaped to fit the multiplication\n",
    "\n",
    "#Finally, we perform our inverse on A dot b to get W \n",
    "w_intercept = np.linalg.inv(A).dot(b) #This gives us two variables, the x and y_intercept"
   ]
  },
  {
   "cell_type": "code",
   "execution_count": 86,
   "metadata": {},
   "outputs": [
    {
     "data": {
      "image/png": "[encoded data removed]",
      "text/plain": [
       "<Figure size 432x288 with 1 Axes>"
      ]
     },
     "metadata": {
      "needs_background": "light"
     },
     "output_type": "display_data"
    }
   ],
   "source": [
    "#This is going to plot our line of best fit\n",
    "x_res_points = np.linspace(0,1,30)#We get a bit more resolution in our line this way. This will make our curves look better later, but we do it now to be in the habit\n",
    "y_test_intercept =w_intercept[0]*x_res_points + w_intercept[1]\n",
    "#plt.scatter(x_points,y_points,color = 'blue')#For clean point data-set\n",
    "plt.scatter(x_points,y_points_n,color = 'red')#For Points\n",
    "plt.plot(x_res_points,y_test, color = 'purple')#This is the old line\n",
    "plt.plot(x_res_points,y_test_intercept,color = 'black')#Black is the new line\n",
    "plt.show()"
   ]
  },
  {
   "cell_type": "code",
   "execution_count": 88,
   "metadata": {},
   "outputs": [
    {
     "data": {
      "text/plain": [
       "array([[ 1.77635684e-14],\n",
       "       [ 3.00000000e+00],\n",
       "       [-8.88178420e-16]])"
      ]
     },
     "execution_count": 88,
     "metadata": {},
     "output_type": "execute_result"
    }
   ],
   "source": [
    "#We are going to add in an x^2 term to our regression.\n",
    "#We know our clean data is y = 3x, so our x^2 term and our intercept should be zero (or close to it)\n",
    "X_2  = (x_points**2).reshape((1,5))\n",
    "X    = x_points.reshape((1,5))#convert our x into a 1x5, so that we can create it's transpose\n",
    "ones = np.ones(5).reshape((1,5))\n",
    "X    = np.vstack((X_2,X,ones))#Following the form of slide 35\n",
    "A = X.dot(X.T)#Multiple our x (saved in A), with it's transpose to get the actual A matrix\n",
    "\n",
    "#Next, we create the b matrix by X.dot(y)\n",
    "b = X.dot(y_points.reshape(5,1)) #Our y vector must also be reshaped to fit the multiplication\n",
    "\n",
    "#Finally, we perform our inverse on A dot b to get W \n",
    "w_clean = np.linalg.inv(A).dot(b)\n",
    "w_clean #When we print this with our clean data, we get back our slope. So our basic method works"
   ]
  },
  {
   "cell_type": "code",
   "execution_count": 93,
   "metadata": {},
   "outputs": [],
   "source": [
    "#Just so you have it, I'm going to use the pseudo-inverse command, instead of just the inverse\n",
    "X_2  = (x_points**2).reshape((1,5))\n",
    "X    = x_points.reshape((1,5))#convert our x into a 1x5, so that we can create it's transpose\n",
    "ones = np.ones(5).reshape((1,5))\n",
    "X    = np.vstack((X_2,X,ones))#Following the form of slide 35\n",
    "A = X.dot(X.T)#Multiple our x (saved in A), with it's transpose to get the actual A matrix\n",
    "\n",
    "#Next, we create the b matrix by X.dot(y)\n",
    "b = X.dot(y_points_n.reshape(5,1)) #Our y vector must also be reshaped to fit the multiplication\n",
    "\n",
    "#Finally, we perform our inverse on A dot b to get W \n",
    "w_square = np.linalg.pinv(A).dot(b)#pinv is the pseudo inverse"
   ]
  },
  {
   "cell_type": "code",
   "execution_count": 95,
   "metadata": {},
   "outputs": [
    {
     "data": {
      "image/png": "[encoded data removed]",
      "text/plain": [
       "<Figure size 432x288 with 1 Axes>"
      ]
     },
     "metadata": {
      "needs_background": "light"
     },
     "output_type": "display_data"
    }
   ],
   "source": [
    "#Finally, we plot all three to see the effect\n",
    "#This is going to plot our line of best fit\n",
    "x_res_points   = np.linspace(0,1,30)#We get a bit more resolution in our line this way. This will make our curves look better later, but we do it now to be in the habit\n",
    "y_test_squared = w_square[0]*x_res_points**2 +w_square[1]*x_res_points + w_square[2]\n",
    "#plt.scatter(x_points,y_points,color = 'blue')#For clean point data-set\n",
    "plt.scatter(x_points,y_points_n,color = 'red')#For Points\n",
    "plt.plot(x_res_points,y_test, color = 'purple')#This is the non-intercept\n",
    "plt.plot(x_res_points,y_test_intercept,color = 'black')#Black is linear with intercept\n",
    "plt.plot(x_res_points,y_test_squared,color = 'green')#Green is quadratic, which we can see as the little curve through it.\n",
    "plt.show()"
   ]
  },
  {
   "cell_type": "code",
   "execution_count": null,
   "metadata": {},
   "outputs": [],
   "source": []
  }
 ],
 "metadata": {
  "kernelspec": {
   "display_name": "Python 3",
   "language": "python",
   "name": "python3"
  },
  "language_info": {
   "codemirror_mode": {
    "name": "ipython",
    "version": 3
   },
   "file_extension": ".py",
   "mimetype": "text/x-python",
   "name": "python",
   "nbconvert_exporter": "python",
   "pygments_lexer": "ipython3",
   "version": "3.7.3"
  }
 },
 "nbformat": 4,
 "nbformat_minor": 2
}
