{
 "cells": [
  {
   "cell_type": "code",
   "execution_count": 2,
   "metadata": {},
   "outputs": [],
   "source": [
    "import csv\n",
    "import random\n",
    "import numpy as np\n",
    "import matplotlib.pyplot as plt\n",
    "from collections import defaultdict\n",
    "from statistics import mean\n",
    "import pickle"
   ]
  },
  {
   "cell_type": "code",
   "execution_count": 3,
   "metadata": {},
   "outputs": [],
   "source": [
    "def partition(arr,arr2,low,high): \n",
    "    i = ( low-1 )       \n",
    "    pivot = arr[high]    \n",
    "    for j in range(low , high): \n",
    "        if   arr[j] <= pivot: \n",
    "            i = i+1 \n",
    "            arr[i],arr[j] = arr[j],arr[i] \n",
    "            arr2[i],arr2[j] = arr2[j],arr2[i] \n",
    "    arr[i+1],arr[high] = arr[high],arr[i+1] \n",
    "    arr2[i+1],arr2[high] = arr2[high],arr2[i+1] \n",
    "    return ( i+1 )  \n",
    "def quickSort(arr,arr2,low,high): \n",
    "    if low < high: \n",
    "        pi = partition(arr,arr2,low,high)  \n",
    "        quickSort(arr,arr2,low, pi-1) \n",
    "        quickSort(arr, arr2, pi+1, high) "
   ]
  },
  {
   "cell_type": "code",
   "execution_count": 4,
   "metadata": {},
   "outputs": [],
   "source": [
    "def getWeights(x,y):\n",
    "    x_r = np.ones(len(y)).reshape((len(y),1))\n",
    "    for d in x:\n",
    "        x2= np.array(d).reshape((len(d),1))\n",
    "        x_r = np.hstack((x_r,x2))\n",
    "    A=(x_r.T).dot(x_r)\n",
    "    B=(x_r.T).dot(np.array(y).reshape((len(y),1)))\n",
    "    return (np.linalg.pinv(A).dot(B)).tolist()"
   ]
  },
  {
   "cell_type": "code",
   "execution_count": 5,
   "metadata": {},
   "outputs": [],
   "source": [
    "def r_squared(ypoints,ypred,indep):\n",
    "    r=r2(ypoints,ypred)\n",
    "    n=len(indep[0])\n",
    "    k=len(indep)\n",
    "    return (1-((1-r)*((n-1)/(n-(k+1)))))\n",
    "def r2(ypoints,ypred):\n",
    "    y_mean=mean(ypoints)\n",
    "    y_meanr=[y_mean for y in ypoints]\n",
    "    sse=squared_error(ypoints,ypred)\n",
    "    sst=squared_error(ypoints,y_meanr)\n",
    "    return (1-(sse/sst))\n",
    "def squared_error(list1,list2):\n",
    "    return sum([(list1[x]-list2[x])**2 for x in range(len(list1))])"
   ]
  },
  {
   "cell_type": "code",
   "execution_count": 6,
   "metadata": {},
   "outputs": [],
   "source": [
    "def plotData(xpoints,ypoints,ypred):\n",
    "    plt.scatter(xpoints,ypoints,color= 'red')\n",
    "    plt.plot(xpoints,ypred,color='purple')\n",
    "    plt.show()"
   ]
  },
  {
   "cell_type": "code",
   "execution_count": 7,
   "metadata": {},
   "outputs": [],
   "source": [
    "def CalcVif(data,neg,pol):\n",
    "    dep=[]\n",
    "    for key in data:\n",
    "        if (key!=\"normalized-losses\" and key!=\"\"):\n",
    "            dep.append(key)\n",
    "    relationship=[]\n",
    "    for i in range(len(dep)-1):\n",
    "        for j in range(i+1,len(dep)):\n",
    "            broke=0;\n",
    "            for k in range(0,pol):\n",
    "                indep=[]\n",
    "                for l in range(1,k+2):\n",
    "                    indep.append([d**l for d in data[dep[i]]])\n",
    "                w=getWeights(indep,data[dep[j]])\n",
    "                y=[]\n",
    "                for m in range(len(indep[0])):\n",
    "                    p=w[0][0]\n",
    "                    for n in range(len(indep)):\n",
    "                        p=p+w[n+1][0]*indep[n][m]\n",
    "                    y.append(p)   \n",
    "                rs=r_squared(data[dep[j]],y,indep)\n",
    "                vif=1/(1-rs)\n",
    "                if (vif>2.5):\n",
    "                    relationship.append([dep[i],dep[j],rs])\n",
    "                    broke=1\n",
    "                    break\n",
    "            if((neg==1)and(broke==0)):\n",
    "                indep=[[d**(-1) for d in data[dep[i]]]]\n",
    "                w=getWeights(indep,data[dep[j]])\n",
    "                y=[w[0][0]+w[1][0]*x for x in indep[0]]\n",
    "                rs=r_squared(data[dep[j]],y,indep)\n",
    "                vif=1/(1-rs)\n",
    "                if (vif>2.5):\n",
    "                    relationship.append([dep[i],dep[j],rs])\n",
    "    return relationship"
   ]
  },
  {
   "cell_type": "code",
   "execution_count": 8,
   "metadata": {},
   "outputs": [],
   "source": [
    "def fivefoldVerification(data,parameters):\n",
    "    m=-9999\n",
    "    best=\"\"\n",
    "    split=fivefold(len(data[\"normalized-losses\"]))\n",
    "    for par in parameters:\n",
    "        rst=0\n",
    "        for i in range(5):\n",
    "            train=split.copy()\n",
    "            test=train[i]\n",
    "            del train[i]\n",
    "            train = [val for sublist in train for val in sublist]\n",
    "            deptrain=[data[\"normalized-losses\"][v] for v in train]\n",
    "            indeptrain=[]\n",
    "            indeptest=[]\n",
    "            for d in par:\n",
    "                indeptrain.append([(data[d[0]][v])**d[1] for v in train])\n",
    "                indeptest.append([(data[d[0]][v])**d[1] for v in test])\n",
    "            w=getWeights(indeptrain,deptrain)\n",
    "            deptest=[data[\"normalized-losses\"][v] for v in test]\n",
    "            y=[]\n",
    "            for k in range(len(indeptest[0])):\n",
    "                p=w[0][0]\n",
    "                for j in range(len(indeptest)):\n",
    "                    p=p+w[j+1][0]*indeptest[j][k]\n",
    "                y.append(p)\n",
    "            rs=r_squared(deptest,y,indeptest)\n",
    "            rst=rst+rs\n",
    "        rst=rst/5\n",
    "        if (rst>m):\n",
    "            m=rst\n",
    "            best=par\n",
    "    return [best,m]"
   ]
  },
  {
   "cell_type": "code",
   "execution_count": 9,
   "metadata": {},
   "outputs": [],
   "source": [
    "def getBestSingleLinear(data):\n",
    "    parameters=[]\n",
    "    for key in data:\n",
    "        if (key!=\"normalized-losses\" and key!=\"\"):\n",
    "            parameters.append([[key,1]])\n",
    "    return fivefoldVerification(data,parameters)"
   ]
  },
  {
   "cell_type": "code",
   "execution_count": 10,
   "metadata": {},
   "outputs": [],
   "source": [
    "def getBestMultipleLinear(data):\n",
    "    return getBestMultiplePoly(data,0,1)"
   ]
  },
  {
   "cell_type": "code",
   "execution_count": 11,
   "metadata": {},
   "outputs": [],
   "source": [
    "def getBestMultiplePoly(data,neg,pol):\n",
    "    rel=CalcVif(data,neg,pol)\n",
    "    independants=[]\n",
    "    for key in data:\n",
    "        if (key!=\"normalized-losses\" and key!=\"\"):\n",
    "            for i in range(pol+1):\n",
    "                if ((i==0) and (neg==1)):\n",
    "                    independants.append([key,-1])\n",
    "                elif(i!=0):\n",
    "                    independants.append([key,i])  \n",
    "    parameters=getParameters([],independants,rel)\n",
    "    return fivefoldVerification(data,parameters)"
   ]
  },
  {
   "cell_type": "code",
   "execution_count": 12,
   "metadata": {},
   "outputs": [],
   "source": [
    "def getParameters(current,possible,rel):\n",
    "    par=[]\n",
    "    for i in range(len(possible)):\n",
    "        nextp=current.copy()\n",
    "        if(possible[i][1]!=-1):\n",
    "            for j in range(possible[i][1]):\n",
    "                nextp.append([possible[i][0],j+1])\n",
    "        else:\n",
    "            nextp.append(possible[i])\n",
    "        par.append(nextp)\n",
    "        par=par+getParameters(nextp,getPossible(possible[i],possible[i+1:],rel),rel)\n",
    "    return par"
   ]
  },
  {
   "cell_type": "code",
   "execution_count": 13,
   "metadata": {},
   "outputs": [],
   "source": [
    "def getPossible(p,possible,rel):\n",
    "    posi=[]\n",
    "    for pos in possible:\n",
    "        if(noRel(p,pos,rel)and(posComb(p,pos))):\n",
    "            posi.append(pos)\n",
    "    return posi"
   ]
  },
  {
   "cell_type": "code",
   "execution_count": 14,
   "metadata": {},
   "outputs": [],
   "source": [
    "def posComb(p1,p2):\n",
    "    if(p1[0]==p2[0]):\n",
    "        return False\n",
    "    return True"
   ]
  },
  {
   "cell_type": "code",
   "execution_count": 15,
   "metadata": {},
   "outputs": [],
   "source": [
    "def noRel(p1,p2,rel):\n",
    "    for r in rel:\n",
    "        if(((r[0]==p1[0])and(r[1]==p2[0]))or((r[0]==p2[0])and(r[1]==p1[0]))):\n",
    "            return False\n",
    "    return True"
   ]
  },
  {
   "cell_type": "code",
   "execution_count": 16,
   "metadata": {},
   "outputs": [],
   "source": [
    "def fivefold(length):\n",
    "    n=list(range(length))\n",
    "    random.shuffle(n)\n",
    "    a=[]\n",
    "    for i in range(5):\n",
    "        a.append([n[int(i*(length/5)+j)] for j in range(int(length/5))])\n",
    "    return a"
   ]
  },
  {
   "cell_type": "code",
   "execution_count": 17,
   "metadata": {},
   "outputs": [],
   "source": [
    "data = defaultdict(list)\n",
    "with open('data.csv') as f:\n",
    "    reader = csv.DictReader(f) \n",
    "    for row in reader: \n",
    "        for (k,v) in row.items(): \n",
    "            data[k].append(v)\n",
    "for key in data:\n",
    "    data[key]=[float(i) for i in data[key]]"
   ]
  },
  {
   "cell_type": "code",
   "execution_count": 76,
   "metadata": {},
   "outputs": [
    {
     "name": "stdout",
     "output_type": "stream",
     "text": [
      "Linear Regression using Height\n"
     ]
    },
    {
     "data": {
      "image/png": "[encoded data removed]",
      "text/plain": [
       "<Figure size 432x288 with 1 Axes>"
      ]
     },
     "metadata": {
      "needs_background": "light"
     },
     "output_type": "display_data"
    }
   ],
   "source": [
    "iis=[[(1/d) for d in data['height']],[(1/d) for d in data[\"price\"]]]\n",
    "w=getWeights(iis,data[\"normalized-losses\"])\n",
    "InverseModel=[w,[['height',-1],['price',-1]]]\n",
    "pickle.dump(InverseModel, open( \"InverseModel.p\", \"wb\" ) )\n",
    "\n",
    "iis=[data['height'],data['city-mpg'],[d*d for d in data[\"city-mpg\"]]]\n",
    "w=getWeights(iis,data[\"normalized-losses\"])\n",
    "PolyModel=[w,[['height',1],['city-mpg',1],['city-mpg',2]]]\n",
    "pickle.dump(PolyModel, open( \"PolyModel.p\", \"wb\" ) )\n",
    "\n",
    "iis=[data['height'],data['city-mpg']]\n",
    "w=getWeights(iis,data[\"normalized-losses\"])\n",
    "MultiLinearModel=[w,[['height',1],['city-mpg',1]]]\n",
    "pickle.dump(MultiLinearModel, open( \"MultiLinearModel.p\", \"wb\" ) )\n",
    "\n",
    "iis=[data['height']]\n",
    "w=getWeights(iis,data[\"normalized-losses\"])\n",
    "LinearModel=[w,[['height',1]]]\n",
    "pickle.dump(LinearModel, open( \"LinearModel.p\", \"wb\" ) )\n",
    "dep=data[\"normalized-losses\"].copy()\n",
    "indep=data['height'].copy()\n",
    "w=getWeights([indep],dep)\n",
    "quickSort(indep,dep,0,len(dep)-1)\n",
    "y = [w[0][0]+w[1][0]*x for x in indep]\n",
    "print(\"Linear Regression using Height\")\n",
    "plotData(indep,dep,y)"
   ]
  },
  {
   "cell_type": "code",
   "execution_count": 103,
   "metadata": {},
   "outputs": [
    {
     "name": "stdout",
     "output_type": "stream",
     "text": [
      "[[['height', 1]], 0.055129092161011695]\n",
      "[[['height', 1], ['city-mpg', 1]], 0.16800227223792596]\n"
     ]
    }
   ],
   "source": [
    "bestLinear=getBestSingleLinear(data)\n",
    "print(bestLinear)\n",
    "bestMultiLinear=getBestMultipleLinear(data)\n",
    "print(bestMultiLinear)"
   ]
  },
  {
   "cell_type": "code",
   "execution_count": 15,
   "metadata": {},
   "outputs": [
    {
     "name": "stdout",
     "output_type": "stream",
     "text": [
      "[[['height', 1], ['city-mpg', 1], ['city-mpg', 2]], 0.21135719751047866]\n",
      "[[['height', -1], ['price', -1]], 0.24987680039611426]\n"
     ]
    }
   ],
   "source": [
    "best1=getBestMultiplePoly(data,0,3)\n",
    "print(best1)\n",
    "best2=getBestMultiplePoly(data,1,2)\n",
    "print(best2)"
   ]
  },
  {
   "cell_type": "code",
   "execution_count": 104,
   "metadata": {
    "scrolled": true
   },
   "outputs": [
    {
     "name": "stdout",
     "output_type": "stream",
     "text": [
      "[[['wheel-base', 1], ['length', 1], ['width', 1], ['height', 1], ['curb-weight', 1], ['engine-size', 1], ['bore', 1], ['stroke', 1], ['compression-ratio', 1], ['horsepower', 1], ['peak-rpm', 1], ['city-mpg', 1], ['highway-mpg', 1], ['price', 1]], -0.46568237738505136]\n"
     ]
    }
   ],
   "source": [
    "iis=[]\n",
    "for key in data:\n",
    "    if (key!=\"normalized-losses\" and key!=\"\"):\n",
    "        iis.append([key,1])\n",
    "print(fivefoldVerification(data,[iis]))"
   ]
  },
  {
   "cell_type": "code",
   "execution_count": 18,
   "metadata": {},
   "outputs": [
    {
     "name": "stdout",
     "output_type": "stream",
     "text": [
      "[['wheel-base', 'length'], ['wheel-base', 'width'], ['wheel-base', 'curb-weight'], ['length', 'width'], ['length', 'curb-weight'], ['width', 'curb-weight'], ['width', 'engine-size'], ['width', 'price'], ['curb-weight', 'engine-size'], ['curb-weight', 'horsepower'], ['curb-weight', 'highway-mpg'], ['curb-weight', 'price'], ['engine-size', 'horsepower'], ['engine-size', 'price'], ['horsepower', 'city-mpg'], ['horsepower', 'highway-mpg'], ['city-mpg', 'highway-mpg']]\n"
     ]
    }
   ],
   "source": [
    "print(CalcVif(data,0,1))"
   ]
  },
  {
   "cell_type": "code",
   "execution_count": null,
   "metadata": {},
   "outputs": [],
   "source": []
  }
 ],
 "metadata": {
  "kernelspec": {
   "display_name": "Python 3",
   "language": "python",
   "name": "python3"
  },
  "language_info": {
   "codemirror_mode": {
    "name": "ipython",
    "version": 3
   },
   "file_extension": ".py",
   "mimetype": "text/x-python",
   "name": "python",
   "nbconvert_exporter": "python",
   "pygments_lexer": "ipython3",
   "version": "3.7.3"
  }
 },
 "nbformat": 4,
 "nbformat_minor": 2
}
